{
  "nbformat": 4,
  "nbformat_minor": 0,
  "metadata": {
    "colab": {
      "private_outputs": true,
      "provenance": [],
      "gpuType": "T4",
      "authorship_tag": "ABX9TyMtEf9Ah1fmjKA5GMsXi0Am",
      "include_colab_link": true
    },
    "kernelspec": {
      "name": "python3",
      "display_name": "Python 3"
    },
    "language_info": {
      "name": "python"
    },
    "accelerator": "GPU"
  },
  "cells": [
    {
      "cell_type": "markdown",
      "metadata": {
        "id": "view-in-github",
        "colab_type": "text"
      },
      "source": [
        "<a href=\"https://colab.research.google.com/github/sktometometo/foundation-model-grpc-server/blob/PR%2Fadd-colab-notebook-for-server-demo/notebooks/foundation_model_grpc_server_demo.ipynb\" target=\"_parent\"><img src=\"https://colab.research.google.com/assets/colab-badge.svg\" alt=\"Open In Colab\"/></a>"
      ]
    },
    {
      "cell_type": "code",
      "execution_count": null,
      "metadata": {
        "id": "Fal0R31uKnVl"
      },
      "outputs": [],
      "source": [
        "# git clone\n",
        "!git clone https://github.com/sktometometo/foundation-model-grpc-server.git\n",
        "!git clone https://github.com/sktometometo/LLaMA-Adapter.git"
      ]
    },
    {
      "cell_type": "code",
      "source": [
        "# Install pip dependencies and library\n",
        "!pip install -r ./LLaMA-Adapter/llama_adapter_v2_multimodal/requirements.txt\n",
        "!pip install -r ./LLaMA-Adapter/requirements.txt\n",
        "!pip install -e ./LLaMA-Adapter/llama_adapter_v2_multimodal/\n",
        "!pip install -e ./foundation-model-grpc-server/"
      ],
      "metadata": {
        "id": "b42LSDx-K_mm"
      },
      "execution_count": null,
      "outputs": []
    },
    {
      "cell_type": "code",
      "source": [
        "# Generate python from proto\n",
        "!cd foundation-model-grpc-server/ && make"
      ],
      "metadata": {
        "id": "Ey2O-wBPLn8g"
      },
      "execution_count": null,
      "outputs": []
    },
    {
      "cell_type": "code",
      "source": [
        "!nvidia-smi"
      ],
      "metadata": {
        "id": "T_zrNm39MW9z"
      },
      "execution_count": null,
      "outputs": []
    },
    {
      "cell_type": "code",
      "source": [
        "!run_lavis_server --port 50053 --device-image-captioning 0 --model-image-captioning blip2_opt2.7b"
      ],
      "metadata": {
        "id": "spMtypoALg0s"
      },
      "execution_count": null,
      "outputs": []
    }
  ]
}